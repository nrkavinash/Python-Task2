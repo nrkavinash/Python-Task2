{
 "cells": [
  {
   "cell_type": "markdown",
   "id": "7404f277-e6a7-46fc-a593-b66699ea2b86",
   "metadata": {},
   "source": [
    "# q1 Answer"
   ]
  },
  {
   "cell_type": "code",
   "execution_count": 35,
   "id": "f298d301-ea73-43de-ac5b-c5895a805dbf",
   "metadata": {},
   "outputs": [
    {
     "name": "stdin",
     "output_type": "stream",
     "text": [
      "Input your password avi@14253699\n"
     ]
    },
    {
     "name": "stdout",
     "output_type": "stream",
     "text": [
      "in Valid Password\n"
     ]
    }
   ],
   "source": [
    "import re\n",
    "p= input(\"Input your password\")\n",
    "x = True\n",
    "while x:  \n",
    "    if (len(p)<10):\n",
    "        break\n",
    "    elif not re.search(\"[ab-z]\",p):\n",
    "        break\n",
    "    elif not re.search(\"[01-9]\",p):\n",
    "        break\n",
    "    elif not re.search(\"[AB-Z]\",p):\n",
    "        break\n",
    "    elif not re.search(\"[$#@]\",p):\n",
    "        break\n",
    "    elif re.search(\"\\s\",p):\n",
    "        break\n",
    "    else:\n",
    "        print(\"Valid Password\")\n",
    "        x=False\n",
    "        break\n",
    "\n",
    "if x:\n",
    "    print(\"in Valid Password\")"
   ]
  },
  {
   "cell_type": "code",
   "execution_count": 36,
   "id": "5904aaea-a47a-429b-9556-60365610a9c9",
   "metadata": {},
   "outputs": [
    {
     "name": "stdin",
     "output_type": "stream",
     "text": [
      "Input your password Datascience@142\n"
     ]
    },
    {
     "name": "stdout",
     "output_type": "stream",
     "text": [
      "Valid Password\n"
     ]
    }
   ],
   "source": [
    "import re\n",
    "p= input(\"Input your password\")\n",
    "x = True\n",
    "while x:  \n",
    "    if (len(p)<10):\n",
    "        break\n",
    "    elif not re.search(\"[ab-z]\",p):\n",
    "        break\n",
    "    elif not re.search(\"[01-9]\",p):\n",
    "        break\n",
    "    elif not re.search(\"[AB-Z]\",p):\n",
    "        break\n",
    "    elif not re.search(\"[$#@]\",p):\n",
    "        break\n",
    "    elif re.search(\"\\s\",p):\n",
    "        break\n",
    "    else:\n",
    "        print(\"Valid Password\")\n",
    "        x=False\n",
    "        break\n",
    "\n",
    "if x:\n",
    "    print(\"in Valid Password\")"
   ]
  },
  {
   "cell_type": "markdown",
   "id": "c7f2e74c-7a1d-4460-9a54-3e79ac466faf",
   "metadata": {},
   "source": [
    "# Q2 Answer \n"
   ]
  },
  {
   "cell_type": "code",
   "execution_count": 11,
   "id": "f505c4db-f933-46ff-89c8-ec27a18b52d7",
   "metadata": {},
   "outputs": [
    {
     "name": "stdout",
     "output_type": "stream",
     "text": [
      "True\n"
     ]
    }
   ],
   "source": [
    "## Check if the string starts with a particular letter\n",
    "\n",
    "Course=\"Data Science Master\"\n",
    "print(Course.startswith(\"D\"))\n"
   ]
  },
  {
   "cell_type": "code",
   "execution_count": 13,
   "id": "68157f0c-ee35-463b-8e49-35746459c123",
   "metadata": {},
   "outputs": [
    {
     "data": {
      "text/plain": [
       "False"
      ]
     },
     "execution_count": 13,
     "metadata": {},
     "output_type": "execute_result"
    }
   ],
   "source": [
    "## Check if the string is numeric\n",
    "string=\"avi123\"\n",
    "string.isnumeric()"
   ]
  },
  {
   "cell_type": "code",
   "execution_count": 14,
   "id": "54451e42-8d5f-4a0b-9b28-595d07ea544c",
   "metadata": {},
   "outputs": [],
   "source": [
    "## Sort a list of tuples having fruit names and their quantity.\n",
    "fruits=[(\"mango\",99),(\"orange\",80), (\"grapes\", 1000)]"
   ]
  },
  {
   "cell_type": "code",
   "execution_count": 16,
   "id": "a55bd733-d2cd-4e00-8878-24bd84a1d251",
   "metadata": {},
   "outputs": [
    {
     "name": "stdout",
     "output_type": "stream",
     "text": [
      "[('orange', 80), ('mango', 99), ('grapes', 1000)]\n"
     ]
    }
   ],
   "source": [
    "fruits.sort(key=lambda a:a[1])\n",
    "print(fruits)"
   ]
  },
  {
   "cell_type": "code",
   "execution_count": 18,
   "id": "92099900-58b6-4083-8ac7-40037c70d9c3",
   "metadata": {},
   "outputs": [],
   "source": [
    "## the squares of numbers from 1 to 10\n",
    "l2=list(range(1,10))"
   ]
  },
  {
   "cell_type": "code",
   "execution_count": 19,
   "id": "5b2c8473-9fd3-4631-aecd-ca4a53fefb11",
   "metadata": {},
   "outputs": [
    {
     "data": {
      "text/plain": [
       "[1, 2, 3, 4, 5, 6, 7, 8, 9]"
      ]
     },
     "execution_count": 19,
     "metadata": {},
     "output_type": "execute_result"
    }
   ],
   "source": [
    "l2"
   ]
  },
  {
   "cell_type": "code",
   "execution_count": 25,
   "id": "bb5cb4b6-8cad-4035-97fd-5dc5b9d45416",
   "metadata": {},
   "outputs": [],
   "source": [
    "l1=list(map(lambda x :x**2 ,l2))"
   ]
  },
  {
   "cell_type": "code",
   "execution_count": 26,
   "id": "39b28066-b896-40f5-a4a0-a14534fa4941",
   "metadata": {},
   "outputs": [
    {
     "data": {
      "text/plain": [
       "[1, 4, 9, 16, 25, 36, 49, 64, 81]"
      ]
     },
     "execution_count": 26,
     "metadata": {},
     "output_type": "execute_result"
    }
   ],
   "source": [
    "l1"
   ]
  },
  {
   "cell_type": "code",
   "execution_count": 21,
   "id": "acc2392d-4e0a-4533-a3a7-dae934c4ea3f",
   "metadata": {},
   "outputs": [],
   "source": [
    "## Find the cube root of numbers from 1 to 10\n"
   ]
  },
  {
   "cell_type": "code",
   "execution_count": 23,
   "id": "e4bcc9f9-2ed5-4400-855e-29efe1f5f96b",
   "metadata": {},
   "outputs": [],
   "source": [
    "l3=list(map(lambda x :x**3 ,l2))"
   ]
  },
  {
   "cell_type": "code",
   "execution_count": 24,
   "id": "9dee565d-3902-4bd4-b6b8-90442d3b33f4",
   "metadata": {},
   "outputs": [
    {
     "data": {
      "text/plain": [
       "[1, 8, 27, 64, 125, 216, 343, 512, 729]"
      ]
     },
     "execution_count": 24,
     "metadata": {},
     "output_type": "execute_result"
    }
   ],
   "source": [
    "l3"
   ]
  },
  {
   "cell_type": "code",
   "execution_count": 27,
   "id": "0a2a2967-4034-4d6a-879f-9d26b1784599",
   "metadata": {},
   "outputs": [
    {
     "name": "stdin",
     "output_type": "stream",
     "text": [
      "Enter The Number 79\n"
     ]
    },
    {
     "name": "stdout",
     "output_type": "stream",
     "text": [
      "79 is odd \n"
     ]
    }
   ],
   "source": [
    "## Check if a given number is even\n",
    "value=int(input(\"Enter The Number\"))\n",
    "if (value%2) == 0:\n",
    "    print(\"{0} is even \".format(value))\n",
    "else:\n",
    "    print(\"{0} is odd \" .format(value))"
   ]
  },
  {
   "cell_type": "code",
   "execution_count": 28,
   "id": "b4e57758-20f5-4bfd-b39b-d5690369e1dd",
   "metadata": {},
   "outputs": [
    {
     "name": "stdin",
     "output_type": "stream",
     "text": [
      "Enter The Number 80\n"
     ]
    },
    {
     "name": "stdout",
     "output_type": "stream",
     "text": [
      "80 is even \n"
     ]
    }
   ],
   "source": [
    "value=int(input(\"Enter The Number\"))\n",
    "if (value%2) == 0:\n",
    "    print(\"{0} is even \".format(value))\n",
    "else:\n",
    "    print(\"{0} is odd \" .format(value))"
   ]
  },
  {
   "cell_type": "code",
   "execution_count": 32,
   "id": "ad7a9282-0662-431d-b5d8-c71b3390c761",
   "metadata": {},
   "outputs": [],
   "source": [
    "## Filter odd numbers from the given list.\n",
    "oddit=[1,2,3,4,5,6,7,8,9,10]"
   ]
  },
  {
   "cell_type": "code",
   "execution_count": 34,
   "id": "788cd732-7693-48ec-9ef2-fa8faa66cb0d",
   "metadata": {},
   "outputs": [
    {
     "data": {
      "text/plain": [
       "[2, 4, 6, 8, 10]"
      ]
     },
     "execution_count": 34,
     "metadata": {},
     "output_type": "execute_result"
    }
   ],
   "source": [
    "list(filter(lambda x : x%2 ==0,oddit))"
   ]
  },
  {
   "cell_type": "code",
   "execution_count": 29,
   "id": "a0fdd8a8-6bda-46e7-9b5e-6c6799055969",
   "metadata": {},
   "outputs": [],
   "source": [
    "## Filter odd numbers from the given list.\n",
    "\n",
    "ls1=[1,2,3,4,5,6,-1,-2,-3,-4,-5,0]"
   ]
  },
  {
   "cell_type": "code",
   "execution_count": 30,
   "id": "a4f8ce84-3318-4470-ad71-b1f30e53e2ea",
   "metadata": {},
   "outputs": [
    {
     "data": {
      "text/plain": [
       "[1, 2, 3, 4, 5, 6]"
      ]
     },
     "execution_count": 30,
     "metadata": {},
     "output_type": "execute_result"
    }
   ],
   "source": [
    "list(filter(lambda x : x>0,ls1))"
   ]
  },
  {
   "cell_type": "code",
   "execution_count": 31,
   "id": "d3b21d39-70d9-499c-b771-9e5213b5ae59",
   "metadata": {},
   "outputs": [
    {
     "data": {
      "text/plain": [
       "[-1, -2, -3, -4, -5]"
      ]
     },
     "execution_count": 31,
     "metadata": {},
     "output_type": "execute_result"
    }
   ],
   "source": [
    "list(filter(lambda x : x<0,ls1))"
   ]
  },
  {
   "cell_type": "code",
   "execution_count": null,
   "id": "91cb913d-d857-4911-a02b-a311ed9d612b",
   "metadata": {},
   "outputs": [],
   "source": []
  }
 ],
 "metadata": {
  "kernelspec": {
   "display_name": "Python 3 (ipykernel)",
   "language": "python",
   "name": "python3"
  },
  "language_info": {
   "codemirror_mode": {
    "name": "ipython",
    "version": 3
   },
   "file_extension": ".py",
   "mimetype": "text/x-python",
   "name": "python",
   "nbconvert_exporter": "python",
   "pygments_lexer": "ipython3",
   "version": "3.10.8"
  }
 },
 "nbformat": 4,
 "nbformat_minor": 5
}
